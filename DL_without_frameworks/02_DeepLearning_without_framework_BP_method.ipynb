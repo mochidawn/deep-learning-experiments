{
 "cells": [
  {
   "cell_type": "code",
   "execution_count": 4,
   "metadata": {
    "collapsed": true
   },
   "outputs": [],
   "source": [
    "import numpy as np\n",
    "import matplotlib.pyplot as plt\n",
    "%matplotlib inline"
   ]
  },
  {
   "cell_type": "markdown",
   "metadata": {},
   "source": [
    "# Create network by layers and use gradient descent with computation graph (Backprop, BP)\n",
    "### 可以把每個操作拆解成局部區域進行微分: Simple examples\n",
    "\n",
    "超商裡的蘋果 1 顆 100 元, 橘子 1 顆 150 元, 結帳時要抽 10% 營業稅, 如果小明買了 2 顆蘋果和 3 顆橘子, 請問若 ... <br>\n",
    "1. 多買一顆蘋果，對結帳價錢的變化?\n",
    "2. 蘋果一顆的價錢漲 1 元時，對結帳價錢的變化?\n",
    "3. 營業稅多 10% 時，對價錢的變化?"
   ]
  },
  {
   "cell_type": "code",
   "execution_count": 5,
   "metadata": {
    "collapsed": false
   },
   "outputs": [
    {
     "name": "stdout",
     "output_type": "stream",
     "text": [
      "final price: 220\n",
      "dApple: 1.10\n",
      "dApple_num: 110.00\n",
      "dTax: 200.00\n"
     ]
    }
   ],
   "source": [
    "class mul_layer():\n",
    "    def __init__(self):\n",
    "        self.x = None\n",
    "        self.y = None\n",
    "    def forward(self, x, y):\n",
    "        self.x = x\n",
    "        self.y = y\n",
    "        out = x * y\n",
    "        return out\n",
    "    def backward(self, dout):\n",
    "        dx = dout * self.y\n",
    "        dy = dout * self.x\n",
    "        return dx, dy\n",
    "    \n",
    "# ----------- #\n",
    "n_apples = 2\n",
    "price_per_apple = 100\n",
    "tax = 1.1\n",
    "\n",
    "# Build network\n",
    "mul_apple_layer = mul_layer()\n",
    "mul_tax_layer = mul_layer()\n",
    "\n",
    "# forward\n",
    "apple_price = mul_apple_layer.forward(price_per_apple, n_apples)\n",
    "price = mul_tax_layer.forward(apple_price, tax)\n",
    "\n",
    "# backward\n",
    "dprice = 1 # because we assume using linear function, which y = x, dy/dx = 1\n",
    "d_apple_price, d_tax = mul_tax_layer.backward(dprice)\n",
    "d_apple, d_apple_num = mul_apple_layer.backward(d_apple_price)\n",
    "\n",
    "# results\n",
    "print(\"final price: %i\" % price)\n",
    "print(\"dApple: %.2f\" % d_apple_price)\n",
    "print(\"dApple_num: %.2f\" % d_apple_num)\n",
    "print(\"dTax: %.2f\" % d_tax)"
   ]
  },
  {
   "cell_type": "markdown",
   "metadata": {},
   "source": [
    "## Exercise\n",
    "- 多買一顆橘子，對結帳價錢的變化?\n",
    "- 橘子一顆的價錢漲 1 元時，對結帳價錢的變化?"
   ]
  },
  {
   "cell_type": "markdown",
   "metadata": {},
   "source": [
    "# Create network by layers and use BP\n",
    "### Real example"
   ]
  },
  {
   "cell_type": "code",
   "execution_count": 4,
   "metadata": {
    "collapsed": true
   },
   "outputs": [],
   "source": [
    "# Define other layer functions\n",
    "class sigmoid_layer():\n",
    "    def __init__(self):\n",
    "        self.out = None\n",
    "    def forward(self, x):\n",
    "        out = 1 / (1 + np.exp(-x))\n",
    "        self.out = out\n",
    "        return out\n",
    "    def backward(self, dout):\n",
    "        dx = dout * (1.0 - self.out) * self.out # dL/dy * y * (1-y)\n",
    "        return dx\n",
    "    \n",
    "class affine_layer():\n",
    "    def __init__(self, W, b):\n",
    "        self.W = W\n",
    "        self.b = b\n",
    "        self.x = None\n",
    "        self.original_x_shape = None\n",
    "        self.dW =None\n",
    "        self.db = None\n",
    "        \n",
    "    def forward(self, x):\n",
    "        self.original_x_shape = x.shape\n",
    "        x = x.reshape(x.shape[0], -1)\n",
    "        \n",
    "        self.x = x\n",
    "        out = np.dot(self.x, self.W) + self.b\n",
    "        \n",
    "        return out\n",
    "    \n",
    "    def backward(self, dout):\n",
    "        dx = np.dot(dout, self.W.T)\n",
    "        \n",
    "        self.dW = np.dot(self.x.T, dout)\n",
    "        self.db = np.sum(dout, axis = 0)\n",
    "        dx = dx.reshape(*self.original_x_shape)\n",
    "        \n",
    "        return dx\n",
    "    \n",
    "def softmax(x):\n",
    "    if x.ndim == 2:\n",
    "        x = x.T # Transpose it\n",
    "        x = x - np.max(x, axis=0)\n",
    "        y = np.exp(x) / np.sum(np.exp(x), axis=0)\n",
    "        return y.T \n",
    "    return np.exp(x) / np.sum(np.exp(x))\n",
    "\n",
    "# define cross_entropy\n",
    "def cross_entropy(y, t):\n",
    "    if y.ndim == 1:\n",
    "        t = t.reshape(1, t.size)\n",
    "        y = y.reshape(1, y.size)\n",
    "        \n",
    "    if t.size == y.size:\n",
    "        t = t.argmax(axis=1)\n",
    "             \n",
    "    batch_size = y.shape[0]\n",
    "    return -np.sum(np.log(y[np.arange(batch_size), t] + 1e-7)) / batch_size\n",
    "\n",
    "class softmax_with_crossentropy():\n",
    "    def __init__(self):\n",
    "        self.loss = None\n",
    "        self.y = None # softmax output\n",
    "        self.t = None # target (ground-truth)\n",
    "        \n",
    "    def forward(self, x, t):\n",
    "        self.t = t\n",
    "        self.y = softmax(x)\n",
    "        self.loss = cross_entropy(self.y, self.t)\n",
    "        \n",
    "        return self.loss\n",
    "    def backward(self, dout = 1):\n",
    "        batch_size = self.t.shape[0]\n",
    "        dx = (self.y - self.t) / batch_size\n",
    "        \n",
    "        return dx"
   ]
  },
  {
   "cell_type": "code",
   "execution_count": 5,
   "metadata": {
    "collapsed": true
   },
   "outputs": [],
   "source": [
    "from collections import OrderedDict # this is a built-in function -- dictionary with order\n",
    "\n",
    "class Two_layerNet_bp:\n",
    "    def __init__(self, \n",
    "                 input_size, \n",
    "                 hidden_size, \n",
    "                 output_size, \n",
    "                 weight_init_std = 0.01):\n",
    "        self.params = {}\n",
    "        self.params['w1'] = weight_init_std * np.random.randn(input_size, hidden_size)\n",
    "        self.params['b1'] = np.zeros(hidden_size)\n",
    "        self.params['w2'] = weight_init_std * np.random.randn(hidden_size, output_size)\n",
    "        self.params['b2'] = np.zeros(output_size)\n",
    "        \n",
    "        # build network\n",
    "        self.layers = OrderedDict()\n",
    "        self.layers['affine_1'] = affine_layer(self.params['w1'], self.params['b1'])\n",
    "        self.layers['sigmoid_1'] = sigmoid_layer()\n",
    "        self.layers['affine_2'] = affine_layer(self.params['w2'], self.params['b2'])\n",
    "        # output layer\n",
    "        self.lastlayer = softmax_with_crossentropy()\n",
    "        \n",
    "    def predict(self, x):\n",
    "        # forward\n",
    "        for layer in self.layers.values():\n",
    "            x = layer.forward(x)\n",
    "        \n",
    "        return x\n",
    "        \n",
    "    def loss(self, x, y_true):\n",
    "        y_pred = self.predict(x)\n",
    "        return self.lastlayer.forward(y_pred, y_true)\n",
    "    \n",
    "    def compute_acc(self, x, y_true):\n",
    "        y_pred = self.predict(x)\n",
    "        # take argmax\n",
    "        y_pred = y_pred.argmax(axis = 1) \n",
    "        y_true = y_true.argmax(axis = 1)\n",
    "        \n",
    "        acc = np.sum(y_pred == y_true) / len(y_true)\n",
    "        return acc\n",
    "    \n",
    "    def gradient(self, x, t):\n",
    "        # forward path\n",
    "        self.loss(x, t)\n",
    "        \n",
    "        # backward\n",
    "        dout = 1\n",
    "        dout = self.lastlayer.backward(dout)\n",
    "        \n",
    "        layers = list(self.layers.values())\n",
    "        layers.reverse()\n",
    "        for layer in layers:\n",
    "            dout = layer.backward(dout)\n",
    "        \n",
    "        # gradient init and setting\n",
    "        grads = {}\n",
    "        grads['w1'] = self.layers['affine_1'].dW\n",
    "        grads['b1'] = self.layers['affine_1'].db\n",
    "        grads['w2'] = self.layers['affine_2'].dW\n",
    "        grads['b2'] = self.layers['affine_2'].db\n",
    "        \n",
    "        return grads"
   ]
  },
  {
   "cell_type": "code",
   "execution_count": 6,
   "metadata": {
    "collapsed": false
   },
   "outputs": [
    {
     "name": "stderr",
     "output_type": "stream",
     "text": [
      "100%|████████████████████████████████████████████████████████████████████████████| 5001/5001 [00:02<00:00, 2351.23it/s]\n"
     ]
    },
    {
     "data": {
      "image/png": "[encoded data removed]",
      "text/plain": [
       "<matplotlib.figure.Figure at 0x2148499eda0>"
      ]
     },
     "metadata": {},
     "output_type": "display_data"
    },
    {
     "data": {
      "image/png": "[encoded data removed]",
      "text/plain": [
       "<matplotlib.figure.Figure at 0x21483748978>"
      ]
     },
     "metadata": {},
     "output_type": "display_data"
    }
   ],
   "source": [
    "from sklearn.datasets import load_digits\n",
    "from sklearn.model_selection import train_test_split\n",
    "from tqdm import tqdm\n",
    "digits = load_digits()\n",
    "\n",
    "x_, y_ = digits.data, digits.target\n",
    "\n",
    "# do some data preprocessing\n",
    "y_one_hot = np.zeros((len(y_), 10))\n",
    "y_one_hot[np.arange(len(y_)), y_] = 1\n",
    "\n",
    "x_ = x_ / x_.max() # normailze it to 0 - 1\n",
    "\n",
    "# do train_test split\n",
    "x_train, x_test, y_train, y_test = train_test_split(x_, y_one_hot, test_size = 0.1, stratify = y_)\n",
    "\n",
    "# define training settings ------------\n",
    "train_loss_list = []\n",
    "train_acc_list = []\n",
    "test_acc_list = []\n",
    "\n",
    "iters_num = 5001\n",
    "train_size = x_train.shape[0] # numbers of training samples\n",
    "bz = 100 # batch size\n",
    "lr = 0.1 # learning rate\n",
    "\n",
    "network = Two_layerNet_bp(input_size=64, hidden_size=25, output_size=10)\n",
    "\n",
    "for i in tqdm(range(iters_num)):\n",
    "    batch_mask = np.random.choice(train_size, bz)\n",
    "    x_batch = x_train[batch_mask]\n",
    "    y_batch = y_train[batch_mask]\n",
    "    \n",
    "    grad = network.gradient(x_batch, y_batch) # already contain a feed-forward processing in this step\n",
    "    \n",
    "    for key in (\"w1\", \"b1\", \"w2\", \"b2\"):\n",
    "        network.params[key] -= lr * grad[key]\n",
    "        \n",
    "    this_loss = network.loss(x_batch, y_batch)\n",
    "    train_loss_list.append(this_loss)\n",
    "    \n",
    "    if i % 100 == 0:\n",
    "        # compute accuracy for every 50 updates\n",
    "        train_acc = network.compute_acc(x_train, y_train)\n",
    "        test_acc = network.compute_acc(x_test, y_test)\n",
    "        \n",
    "        train_acc_list.append(train_acc)\n",
    "        test_acc_list.append(test_acc)\n",
    "        \n",
    "        #print(\"Train accuarcy, Test accuracy | \" + str(train_acc) + \", \" + str(test_acc))\n",
    "        \n",
    "plt.plot(np.arange(len(train_loss_list)), train_loss_list, 'b-')\n",
    "plt.show()\n",
    "\n",
    "plt.plot(np.arange(len(train_acc_list)), train_acc_list, 'b-', label = 'training accuracy')\n",
    "plt.plot(np.arange(len(test_acc_list)), test_acc_list, 'r-', label = 'validation accuracy')\n",
    "plt.legend(bbox_to_anchor=(1.05, 1), loc=2, borderaxespad=0.)\n",
    "plt.show()"
   ]
  },
  {
   "cell_type": "markdown",
   "metadata": {},
   "source": [
    "## Exercise\n",
    "- 試著建立一個 relu_layer, 並將 network 中的 sigmoid_layer 換成 relu layer"
   ]
  }
 ],
 "metadata": {
  "anaconda-cloud": {},
  "kernelspec": {
   "display_name": "Python [default]",
   "language": "python",
   "name": "python3"
  },
  "language_info": {
   "codemirror_mode": {
    "name": "ipython",
    "version": 3
   },
   "file_extension": ".py",
   "mimetype": "text/x-python",
   "name": "python",
   "nbconvert_exporter": "python",
   "pygments_lexer": "ipython3",
   "version": "3.5.2"
  }
 },
 "nbformat": 4,
 "nbformat_minor": 2
}
