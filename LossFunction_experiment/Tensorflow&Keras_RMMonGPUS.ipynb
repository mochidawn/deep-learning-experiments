{
 "cells": [
  {
   "cell_type": "markdown",
   "metadata": {},
   "source": [
    "### Run multiple models on different GPUs with the same data\n",
    "This is very useful when you want to compare your hyper-parameters / models without set seed.\n",
    "Set seed method has several drawbacks  \n",
    "\n",
    "1) Time costly <br>\n",
    "2) RAM memory costly <br>\n",
    "3) when encounter data augmentation, you will get in trouble... fix augmentation is very annoying. (I'll make the data pipeline to accomplish when I got time to work on this...) <br>"
   ]
  },
  {
   "cell_type": "code",
   "execution_count": 1,
   "metadata": {},
   "outputs": [
    {
     "name": "stdout",
     "output_type": "stream",
     "text": [
      "Namespace(batch_size=256, epoch=100, frame_work='Keras', gpu_id='1,2', use_data='mnist')\n"
     ]
    },
    {
     "name": "stderr",
     "output_type": "stream",
     "text": [
      "/usr/local/lib/python3.5/dist-packages/h5py/__init__.py:36: FutureWarning: Conversion of the second argument of issubdtype from `float` to `np.floating` is deprecated. In future, it will be treated as `np.float64 == np.dtype(float).type`.\n",
      "  from ._conv import register_converters as _register_converters\n",
      "Using TensorFlow backend.\n"
     ]
    }
   ],
   "source": [
    "import os\n",
    "import argparse\n",
    "import numpy as np\n",
    "import matplotlib.pyplot as plt\n",
    "\n",
    "parser = argparse.ArgumentParser()\n",
    "parser.add_argument('--gpu_id', default=\"1,2\", type = str, help = \"depends on how many GPUs on your machine and which GPU you want to get\")\n",
    "parser.add_argument('--frame_work', default=\"Keras\", type = str, help = \"TF / Keras\")\n",
    "parser.add_argument('--use_data', default=\"mnist\", type = str, help = \"mnist / cifar10\")\n",
    "parser.add_argument('--epoch', default= 100, type = int)\n",
    "parser.add_argument('--batch_size', default= 256, type = int)\n",
    "\n",
    "FLAGS = parser.parse_args([])\n",
    "print(FLAGS)\n",
    "\n",
    "os.environ['CUDA_VISIBLE_DEVICES'] = FLAGS.gpu_id\n",
    "import threading\n",
    "import tensorflow as tf\n",
    "from tensorflow.examples.tutorials.mnist import input_data\n",
    "from keras.datasets import cifar10, cifar100\n",
    "from keras.utils.np_utils import to_categorical\n",
    "\n",
    "import keras.backend as K\n",
    "from keras.models import Model, load_model, save_model\n",
    "from keras.layers import Dense, Activation, Input, Conv2D, Flatten, GlobalAveragePooling2D, MaxPooling2D\n",
    "from keras.optimizers import SGD\n",
    "# Modified from source: https://stackoverflow.com/questions/46712272/run-hyperparameter-optimization-on-parallel-gpus-using-tensorflow\n",
    "# The original version IS NOT CORRECT, you have to add with tf.devices inside the graph"
   ]
  },
  {
   "cell_type": "code",
   "execution_count": 2,
   "metadata": {},
   "outputs": [],
   "source": [
    "## Define a callback for Keras model\n",
    "from keras.callbacks import Callback\n",
    "class K_Logger(Callback):\n",
    "    def __init__(self, n, gpu_id = 0):\n",
    "        self.n = n   # print loss & acc every n epochs\n",
    "        self.gpu_id = gpu_id\n",
    "\n",
    "    def on_epoch_end(self, epoch, logs={}):\n",
    "        if epoch % self.n == 0:\n",
    "            # add what you need here\n",
    "            train_loss = logs.get('loss')\n",
    "            train_acc = logs.get('acc')\n",
    "            valid_loss = logs.get('val_loss')\n",
    "            valid_acc = logs.get('val_acc')\n",
    "            print(\"GPU_ID: %s, epoch: %4d, loss: %0.5f, acc: %0.3f, val_loss: %0.5f, val_acc: %0.3f\" \\\n",
    "                  % (self.gpu_id, epoch, \n",
    "                     train_loss, train_acc,\n",
    "                     valid_loss, valid_acc))\n",
    "            \n",
    "class TF_Logger():\n",
    "    def __init__(self, n, gpu_id = 0):\n",
    "        self.n = n\n",
    "        self.gpu_id = gpu_id\n",
    "        # append what you need here\n",
    "        self.history = {'loss': [],\n",
    "                        'acc': [],\n",
    "                        'val_loss': [],\n",
    "                        'val_acc': []}\n",
    "        \n",
    "    def update(self, epoch, loss, acc, val_loss, val_acc):\n",
    "        self.history['loss'].append(loss)\n",
    "        self.history['acc'].append(acc)\n",
    "        self.history['val_loss'].append(val_loss)\n",
    "        self.history['val_acc'].append(val_acc)\n",
    "        \n",
    "        if epoch % self.n == 0:\n",
    "            print(\"GPU_ID: %s, epoch: %4d, loss: %0.5f, acc: %0.3f, val_loss: %0.5f, val_acc: %0.3f\" \\\n",
    "                  % (self.gpu_id, epoch, \n",
    "                     loss, acc,\n",
    "                     val_loss, val_acc))"
   ]
  },
  {
   "cell_type": "markdown",
   "metadata": {},
   "source": [
    "### Check GPU ID get"
   ]
  },
  {
   "cell_type": "code",
   "execution_count": 3,
   "metadata": {},
   "outputs": [
    {
     "data": {
      "text/plain": [
       "['/device:GPU:0', '/device:GPU:1']"
      ]
     },
     "execution_count": 3,
     "metadata": {},
     "output_type": "execute_result"
    }
   ],
   "source": [
    "from tensorflow.python.client import device_lib\n",
    "\n",
    "def get_available_gpus():\n",
    "    local_device_protos = device_lib.list_local_devices()\n",
    "    return [x.name for x in local_device_protos if x.device_type == 'GPU']\n",
    "\n",
    "# list them, no matter which GPU you pick up, the order must start from 0 (e.g. CUDA_VISIBLE_DEVICES=7 ==> /device:GPU:0)\n",
    "get_available_gpus()"
   ]
  },
  {
   "cell_type": "code",
   "execution_count": 4,
   "metadata": {},
   "outputs": [
    {
     "name": "stdout",
     "output_type": "stream",
     "text": [
      "Extracting data/mnist/train-images-idx3-ubyte.gz\n",
      "Extracting data/mnist/train-labels-idx1-ubyte.gz\n",
      "Extracting data/mnist/t10k-images-idx3-ubyte.gz\n",
      "Extracting data/mnist/t10k-labels-idx1-ubyte.gz\n",
      "(55000, 28, 28, 1)\n",
      "(55000, 10)\n",
      "(10000, 28, 28, 1)\n",
      "(10000, 10)\n"
     ]
    }
   ],
   "source": [
    "# Get the data\n",
    "use_data = FLAGS.use_data\n",
    "\n",
    "if use_data is 'mnist':\n",
    "    dset = input_data.read_data_sets(\"data/mnist\", one_hot=True, reshape=False)\n",
    "    train_x_all = dset.train.images\n",
    "    train_y_all = dset.train.labels\n",
    "    test_x = dset.test.images\n",
    "    test_y = dset.test.labels\n",
    "elif use_data is 'cifar10':\n",
    "    dtrain, dtest = cifar10.load_data()\n",
    "    train_x_all, train_y_all = dtrain\n",
    "    test_x, test_y = dtest\n",
    "    train_y_all = to_categorical(train_y_all, num_classes=10)\n",
    "    test_y = to_categorical(test_y, num_classes=10)\n",
    "    \n",
    "print(train_x_all.shape)\n",
    "print(train_y_all.shape)\n",
    "print(test_x.shape)\n",
    "print(test_y.shape)"
   ]
  },
  {
   "cell_type": "code",
   "execution_count": 5,
   "metadata": {},
   "outputs": [],
   "source": [
    "def build_keras_model(input_shape, n_classes):\n",
    "    # Example for a simple model\n",
    "    x_in = Input(shape = input_shape)\n",
    "    x = Conv2D(filters=32, kernel_size=(3,3), activation='relu', padding='same')(x_in)\n",
    "    x = MaxPooling2D(pool_size=(2,2))(x)\n",
    "    \n",
    "    x = Conv2D(filters=64, kernel_size=(3,3), activation='relu', padding='same')(x)\n",
    "    x = MaxPooling2D(pool_size=(2,2))(x)\n",
    "    \n",
    "    x = Flatten()(x)\n",
    "    y = Dense(units=n_classes, activation='softmax')(x)\n",
    "    \n",
    "    model = Model(inputs=[x_in], outputs=[y])\n",
    "    \n",
    "    return model\n",
    "\n",
    "def build_tf_model(input_shape, n_classes):\n",
    "    imd1, imd2, imd3 = input_shape\n",
    "    x = tf.placeholder(tf.float32, [None, imd1, imd2, imd3], name='x')\n",
    "    y = tf.placeholder(tf.float32, [None, n_classes], name='y')\n",
    "    \n",
    "    x = tf.layers.conv2d(inputs=x, filters=32, kernel_size=(3,3), padding='same')\n",
    "    x = tf.nn.relu(x)\n",
    "    x = tf.layers.max_pooling2d(inputs=x, pool_size=(2,2), strides=(1,1))\n",
    "    \n",
    "    x = tf.layers.conv2d(inputs=x, filters=64, kernel_size=(3,3), padding='same')\n",
    "    x = tf.nn.relu(x)\n",
    "    x = tf.layers.max_pooling2d(inputs=x, pool_size=(2,2), strides=(1,1))\n",
    "    \n",
    "    x = tf.layers.flatten(inputs=x)\n",
    "    pred = tf.layers.dense(inputs=x, units=n_classes)\n",
    "    pred = tf.nn.softmax(pred)\n",
    "    cost = tf.reduce_mean(-tf.reduce_sum(y*tf.log(pred), reduction_indices=1), \n",
    "                          name='cost')\n",
    "    accuracy = tf.reduce_mean(tf.cast(tf.equal(tf.argmax(pred, 1), \n",
    "                                               tf.argmax(y, 1)), \n",
    "                                      tf.float32), name = 'accuracy')\n",
    "    return cost"
   ]
  },
  {
   "cell_type": "code",
   "execution_count": 6,
   "metadata": {},
   "outputs": [
    {
     "name": "stdout",
     "output_type": "stream",
     "text": [
      "[[<tensorflow.python.framework.ops.Graph object at 0x7fe2ae4ad1d0>, <keras.engine.training.Model object at 0x7fe2a9c81710>], [<tensorflow.python.framework.ops.Graph object at 0x7fe2ae4adda0>, <keras.engine.training.Model object at 0x7fe2a9b5a518>]]\n"
     ]
    }
   ],
   "source": [
    "# Define the graphs per device\n",
    "learning_rates = [0.01, 0.001]\n",
    "jobs = []\n",
    "devices = ['/device:GPU:0', '/device:GPU:1'] # depends on which GPUs you want to put them in\n",
    "\n",
    "# Note, the optimization part was put at different place for Tensorflow and Keras version.\n",
    "# For tensorflow, optimize should be placed inside tf.device (or it seems gpus not working correctly)\n",
    "# For Keras, optim and compile should be placed outside tf.device (or it will throw gradient collection error)\n",
    "\n",
    "if FLAGS.frame_work is \"TF\":\n",
    "    for device, learning_rate in zip(devices, learning_rates):\n",
    "        with tf.Graph().as_default() as graph:\n",
    "            with tf.device(device):\n",
    "                cost = build_tf_model(input_shape = train_x_all.shape[1:], n_classes=train_y_all.shape[1] )\n",
    "                optimize = tf.train.GradientDescentOptimizer(learning_rate).minimize(cost, name='optimize')\n",
    "        jobs.append(graph)\n",
    "        \n",
    "elif FLAGS.frame_work is \"Keras\":\n",
    "    for learning_rate, device in zip(learning_rates, devices):\n",
    "        with tf.Graph().as_default() as graph:\n",
    "            with tf.device(device):\n",
    "                model = build_keras_model(input_shape=(train_x_all.shape[1:]), n_classes=train_y_all.shape[1])\n",
    "            # to cpu\n",
    "            optim = SGD(lr=learning_rate)\n",
    "            model.compile(loss = 'categorical_crossentropy', metrics= ['acc'], optimizer=optim)\n",
    "        jobs.append([graph, model])\n",
    "        \n",
    "print(jobs)"
   ]
  },
  {
   "cell_type": "code",
   "execution_count": 7,
   "metadata": {},
   "outputs": [
    {
     "name": "stdout",
     "output_type": "stream",
     "text": [
      "Start training on /device:GPU:0Start training on /device:GPU:1\n",
      "\n",
      "GPU_ID: /device:GPU:0, epoch:    0, loss: 1.88935, acc: 0.524, val_loss: 0.92974, val_acc: 0.798\n",
      "GPU_ID: /device:GPU:1, epoch:    0, loss: 2.29458, acc: 0.140, val_loss: 2.28009, val_acc: 0.198\n",
      "GPU_ID: /device:GPU:0, epoch:    5, loss: 0.27579, acc: 0.919, val_loss: 0.26570, val_acc: 0.922\n",
      "GPU_ID: /device:GPU:1, epoch:    5, loss: 2.07980, acc: 0.618, val_loss: 2.02535, val_acc: 0.653\n",
      "GPU_ID: /device:GPU:0, epoch:   10, loss: 0.19017, acc: 0.944, val_loss: 0.17214, val_acc: 0.950\n",
      "GPU_ID: /device:GPU:1, epoch:   10, loss: 1.04161, acc: 0.770, val_loss: 0.91345, val_acc: 0.804\n",
      "GPU_ID: /device:GPU:0, epoch:   15, loss: 0.14132, acc: 0.959, val_loss: 0.12530, val_acc: 0.963\n",
      "GPU_ID: /device:GPU:1, epoch:   15, loss: 0.55276, acc: 0.851, val_loss: 0.50719, val_acc: 0.866\n",
      "GPU_ID: /device:GPU:0, epoch:   20, loss: 0.11232, acc: 0.968, val_loss: 0.10183, val_acc: 0.970\n",
      "GPU_ID: /device:GPU:1, epoch:   20, loss: 0.43022, acc: 0.879, val_loss: 0.39988, val_acc: 0.890\n",
      "GPU_ID: /device:GPU:0, epoch:   25, loss: 0.09439, acc: 0.972, val_loss: 0.08739, val_acc: 0.972\n",
      "GPU_ID: /device:GPU:0, epoch:   30, loss: 0.08281, acc: 0.976, val_loss: 0.08007, val_acc: 0.974\n",
      "GPU_ID: /device:GPU:1, epoch:   25, loss: 0.37417, acc: 0.893, val_loss: 0.34933, val_acc: 0.905\n",
      "GPU_ID: /device:GPU:0, epoch:   35, loss: 0.07416, acc: 0.978, val_loss: 0.06782, val_acc: 0.980\n",
      "GPU_ID: /device:GPU:1, epoch:   30, loss: 0.33966, acc: 0.902, val_loss: 0.31720, val_acc: 0.912\n",
      "GPU_ID: /device:GPU:0, epoch:   40, loss: 0.06768, acc: 0.980, val_loss: 0.06327, val_acc: 0.980\n",
      "GPU_ID: /device:GPU:1, epoch:   35, loss: 0.31514, acc: 0.910, val_loss: 0.29425, val_acc: 0.917\n",
      "GPU_ID: /device:GPU:0, epoch:   45, loss: 0.06270, acc: 0.981, val_loss: 0.05704, val_acc: 0.982\n",
      "GPU_ID: /device:GPU:1, epoch:   40, loss: 0.29587, acc: 0.916, val_loss: 0.27616, val_acc: 0.922\n",
      "GPU_ID: /device:GPU:0, epoch:   50, loss: 0.05817, acc: 0.983, val_loss: 0.05288, val_acc: 0.983\n",
      "GPU_ID: /device:GPU:0, epoch:   55, loss: 0.05476, acc: 0.984, val_loss: 0.05449, val_acc: 0.983\n",
      "GPU_ID: /device:GPU:1, epoch:   45, loss: 0.27982, acc: 0.920, val_loss: 0.26100, val_acc: 0.925\n",
      "GPU_ID: /device:GPU:0, epoch:   60, loss: 0.05164, acc: 0.985, val_loss: 0.04940, val_acc: 0.984\n",
      "GPU_ID: /device:GPU:1, epoch:   50, loss: 0.26625, acc: 0.923, val_loss: 0.24823, val_acc: 0.930\n",
      "GPU_ID: /device:GPU:0, epoch:   65, loss: 0.04899, acc: 0.985, val_loss: 0.04680, val_acc: 0.984\n",
      "GPU_ID: /device:GPU:1, epoch:   55, loss: 0.25389, acc: 0.927, val_loss: 0.23640, val_acc: 0.933\n",
      "GPU_ID: /device:GPU:0, epoch:   70, loss: 0.04651, acc: 0.986, val_loss: 0.04540, val_acc: 0.985\n",
      "GPU_ID: /device:GPU:1, epoch:   60, loss: 0.24268, acc: 0.930, val_loss: 0.22634, val_acc: 0.937\n",
      "GPU_ID: /device:GPU:0, epoch:   75, loss: 0.04485, acc: 0.987, val_loss: 0.04358, val_acc: 0.987\n",
      "GPU_ID: /device:GPU:0, epoch:   80, loss: 0.04275, acc: 0.987, val_loss: 0.04254, val_acc: 0.987\n",
      "GPU_ID: /device:GPU:1, epoch:   65, loss: 0.23239, acc: 0.933, val_loss: 0.21528, val_acc: 0.940\n",
      "GPU_ID: /device:GPU:0, epoch:   85, loss: 0.04101, acc: 0.988, val_loss: 0.04048, val_acc: 0.987\n",
      "GPU_ID: /device:GPU:1, epoch:   70, loss: 0.22298, acc: 0.936, val_loss: 0.20740, val_acc: 0.942\n",
      "GPU_ID: /device:GPU:0, epoch:   90, loss: 0.03951, acc: 0.988, val_loss: 0.04157, val_acc: 0.986\n",
      "GPU_ID: /device:GPU:1, epoch:   75, loss: 0.21413, acc: 0.938, val_loss: 0.19912, val_acc: 0.944\n",
      "GPU_ID: /device:GPU:0, epoch:   95, loss: 0.03799, acc: 0.988, val_loss: 0.03983, val_acc: 0.988\n",
      "GPU_ID: /device:GPU:1, epoch:   80, loss: 0.20583, acc: 0.941, val_loss: 0.19070, val_acc: 0.946\n",
      "GPU_ID: /device:GPU:1, epoch:   85, loss: 0.19813, acc: 0.943, val_loss: 0.18294, val_acc: 0.949\n",
      "GPU_ID: /device:GPU:1, epoch:   90, loss: 0.19088, acc: 0.945, val_loss: 0.17679, val_acc: 0.950\n",
      "GPU_ID: /device:GPU:1, epoch:   95, loss: 0.18404, acc: 0.947, val_loss: 0.17050, val_acc: 0.952\n"
     ]
    }
   ],
   "source": [
    "# Train a graph on a device\n",
    "n_epoch = FLAGS.epoch\n",
    "batch_size = FLAGS.batch_size\n",
    "\n",
    "if FLAGS.frame_work is \"TF\":\n",
    "    def train(device, graph):\n",
    "        graph.history = TF_Logger(n = 5, gpu_id = device)\n",
    "        print(\"Start training on %s\" % device)\n",
    "        with tf.Session(graph=graph) as session:\n",
    "            total_batch = int(train_x_all.shape[0] / batch_size)\n",
    "            total_val_step = int(test_x.shape[0] / batch_size)\n",
    "            \n",
    "            x = graph.get_tensor_by_name('x:0')\n",
    "            y = graph.get_tensor_by_name('y:0')\n",
    "            cost_op = graph.get_tensor_by_name('cost:0')\n",
    "            accuracy_op = graph.get_tensor_by_name('accuracy:0')\n",
    "            optimize_op = graph.get_operation_by_name('optimize')\n",
    "            \n",
    "            session.run(tf.global_variables_initializer())\n",
    "            print(\"Start Running\")\n",
    "            for epoch in range(n_epoch):\n",
    "                epoch_loss, epoch_acc, epoch_val_loss, epoch_val_acc = [], [], [], []\n",
    "                for i in range(total_batch):\n",
    "                    batch_x = train_x_all[i * batch_size:(i + 1) * batch_size]\n",
    "                    batch_y = train_y_all[i * batch_size:(i + 1) * batch_size]\n",
    "                    \n",
    "                    _, loss, acc = session.run([optimize_op, cost_op, accuracy_op], \n",
    "                                                feed_dict={x: batch_x, y: batch_y})\n",
    "                    \n",
    "                    epoch_loss.append(loss)\n",
    "                    epoch_acc.append(acc)\n",
    "                    \n",
    "                epoch_loss = np.mean(epoch_loss)\n",
    "                epoch_acc = np.mean(epoch_acc)\n",
    "                \n",
    "                for i in range(total_val_step):\n",
    "                    batch_x = test_x[i * batch_size:(i + 1) * batch_size]\n",
    "                    batch_y = test_y[i * batch_size:(i + 1) * batch_size]\n",
    "                    \n",
    "                    val_loss, val_accuracy = session.run([cost_op, accuracy_op], \n",
    "                                                         feed_dict={x: batch_x, y: batch_y})\n",
    "                    epoch_val_loss.append(val_loss)\n",
    "                    epoch_val_acc.append(val_accuracy)\n",
    "                    \n",
    "                epoch_val_loss = np.mean(epoch_val_loss)\n",
    "                epoch_val_acc = np.mean(epoch_val_acc)\n",
    "                    \n",
    "                # Link it to logger\n",
    "                graph.history.update(epoch, epoch_loss, epoch_acc, epoch_val_loss, epoch_val_acc)\n",
    "                        \n",
    "elif FLAGS.frame_work is \"Keras\":\n",
    "    def train(device, graph, model):\n",
    "        print(\"Start training on %s\" % device)\n",
    "        logger = K_Logger(n = 5, gpu_id = device)\n",
    "        with tf.Session(graph=graph) as session:\n",
    "            K.set_session(session=session)\n",
    "            model.fit(x = train_x_all, \n",
    "                      y = train_y_all, \n",
    "                      batch_size=batch_size, \n",
    "                      epochs=n_epoch, \n",
    "                      verbose=0, \n",
    "                      validation_data=(test_x, test_y), callbacks=[logger])\n",
    "\n",
    "# Start threads in parallel\n",
    "train_threads = []\n",
    "for i, item in enumerate(jobs):\n",
    "    if FLAGS.frame_work is \"TF\":\n",
    "        this_graph = item\n",
    "        train_threads.append(threading.Thread(target=train, args=(devices[i], this_graph)))\n",
    "    elif FLAGS.frame_work is \"Keras\":\n",
    "        this_graph = item[0]\n",
    "        this_model = item[1]\n",
    "        train_threads.append(threading.Thread(target=train, args=(devices[i], this_graph, this_model)))\n",
    "for t in train_threads:\n",
    "    t.start()\n",
    "for t in train_threads:\n",
    "    t.join()"
   ]
  },
  {
   "cell_type": "markdown",
   "metadata": {},
   "source": [
    "## Get the result and plot it"
   ]
  },
  {
   "cell_type": "code",
   "execution_count": 8,
   "metadata": {},
   "outputs": [
    {
     "data": {
      "image/png": "[encoded data removed]",
      "text/plain": [
       "<matplotlib.figure.Figure at 0x7fe2a97cebe0>"
      ]
     },
     "metadata": {},
     "output_type": "display_data"
    }
   ],
   "source": [
    "if FLAGS.frame_work is \"TF\":\n",
    "    history_model1 = jobs[0].history.history\n",
    "    history_model2 = jobs[1].history.history\n",
    "elif FLAGS.frame_work is \"Keras\":\n",
    "    history_model1 = jobs[0][1].history.history\n",
    "    history_model2 = jobs[1][1].history.history\n",
    "\n",
    "plt.figure(figsize=(12,8))\n",
    "plt.subplot(2,2,1)\n",
    "plt.plot(np.arange(len(history_model1['acc'])), history_model1['acc'], 'b-', label = 'model1')\n",
    "plt.plot(np.arange(len(history_model2['acc'])), history_model2['acc'], 'r-', label = 'model2')\n",
    "plt.legend()\n",
    "plt.title(\"Training Accuracy\")\n",
    "\n",
    "plt.subplot(2,2,2)\n",
    "plt.plot(np.arange(len(history_model1['val_acc'])), history_model1['val_acc'], 'b-', label = 'model1')\n",
    "plt.plot(np.arange(len(history_model2['val_acc'])), history_model2['val_acc'], 'r-', label = 'model2')\n",
    "plt.legend()\n",
    "plt.title(\"Validation Accuracy\")\n",
    "\n",
    "plt.subplot(2,2,3)\n",
    "plt.plot(np.arange(len(history_model1['loss'])), history_model1['loss'], 'b-', label = 'model1')\n",
    "plt.plot(np.arange(len(history_model2['loss'])), history_model2['loss'], 'r-', label = 'model2')\n",
    "plt.legend()\n",
    "plt.title(\"Training Loss\")\n",
    "\n",
    "plt.subplot(2,2,4)\n",
    "plt.plot(np.arange(len(history_model1['val_loss'])), history_model1['val_loss'], 'b-', label = 'model1')\n",
    "plt.plot(np.arange(len(history_model2['val_loss'])), history_model2['val_loss'], 'r-', label = 'model2')\n",
    "plt.legend()\n",
    "plt.title(\"Validation Loss\")\n",
    "\n",
    "plt.show()"
   ]
  },
  {
   "cell_type": "code",
   "execution_count": null,
   "metadata": {},
   "outputs": [],
   "source": []
  }
 ],
 "metadata": {
  "kernelspec": {
   "display_name": "Python 3",
   "language": "python",
   "name": "python3"
  },
  "language_info": {
   "codemirror_mode": {
    "name": "ipython",
    "version": 3
   },
   "file_extension": ".py",
   "mimetype": "text/x-python",
   "name": "python",
   "nbconvert_exporter": "python",
   "pygments_lexer": "ipython3",
   "version": "3.5.2"
  }
 },
 "nbformat": 4,
 "nbformat_minor": 2
}
