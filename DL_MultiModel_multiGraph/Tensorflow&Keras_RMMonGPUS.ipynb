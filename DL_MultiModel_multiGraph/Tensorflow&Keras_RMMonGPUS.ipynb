{
 "cells": [
  {
   "cell_type": "markdown",
   "metadata": {},
   "source": [
    "### Run multiple models on different GPUs with the same data\n",
    "This is very useful when you want to compare your hyper-parameters / models without set seed.\n",
    "Set seed method has several drawbacks  \n",
    "\n",
    "1) Time costly <br>\n",
    "2) RAM memory costly <br>\n",
    "3) when encounter data augmentation, you will get in trouble... fix augmentation is very annoying <br>"
   ]
  },
  {
   "cell_type": "code",
   "execution_count": 1,
   "metadata": {},
   "outputs": [
    {
     "name": "stdout",
     "output_type": "stream",
     "text": [
      "Namespace(frame_work='Keras', gpu_id='1,2')\n"
     ]
    },
    {
     "name": "stderr",
     "output_type": "stream",
     "text": [
      "/usr/local/lib/python3.5/dist-packages/h5py/__init__.py:36: FutureWarning: Conversion of the second argument of issubdtype from `float` to `np.floating` is deprecated. In future, it will be treated as `np.float64 == np.dtype(float).type`.\n",
      "  from ._conv import register_converters as _register_converters\n",
      "Using TensorFlow backend.\n"
     ]
    }
   ],
   "source": [
    "import os\n",
    "import argparse\n",
    "\n",
    "parser = argparse.ArgumentParser()\n",
    "parser.add_argument('--gpu_id', default=\"1,2\", type = str, help = \"depends on how many GPUs on your machine and which GPU you want to get\")\n",
    "parser.add_argument('--frame_work', default=\"Keras\", type = str, help = \"TF / Keras\")\n",
    "\n",
    "FLAGS = parser.parse_args([])\n",
    "print(FLAGS)\n",
    "\n",
    "os.environ['CUDA_VISIBLE_DEVICES'] = FLAGS.gpu_id\n",
    "import threading\n",
    "import tensorflow as tf\n",
    "from tensorflow.examples.tutorials.mnist import input_data\n",
    "\n",
    "import keras.backend as K\n",
    "from keras.models import Model, load_model, save_model\n",
    "from keras.layers import Dense, Activation, Input\n",
    "from keras.optimizers import SGD\n",
    "# Modified from source: https://stackoverflow.com/questions/46712272/run-hyperparameter-optimization-on-parallel-gpus-using-tensorflow\n",
    "# The original version IS NOT CORRECT, you have to add with tf.devices inside the graph"
   ]
  },
  {
   "cell_type": "code",
   "execution_count": 2,
   "metadata": {},
   "outputs": [],
   "source": [
    "## Define a callback for Keras model\n",
    "from keras.callbacks import Callback\n",
    "class Logger(Callback):\n",
    "    def __init__(self, n, gpu_id = 0):\n",
    "        self.n = n   # print loss & acc every n epochs\n",
    "        self.gpu_id = gpu_id\n",
    "\n",
    "    def on_epoch_end(self, epoch, logs={}):\n",
    "        if epoch % self.n == 0:\n",
    "            # add what you need here\n",
    "            train_loss = logs.get('loss')\n",
    "            train_acc = logs.get('acc')\n",
    "            valid_loss = logs.get('val_loss')\n",
    "            valid_acc = logs.get('val_acc')\n",
    "            print(\"GPU_ID: %s, epoch: %4d, loss: %0.5f, acc: %0.3f, val_loss: %0.5f, val_acc: %0.3f\" \\\n",
    "                  % (self.gpu_id, epoch, \n",
    "                     train_loss, train_acc,\n",
    "                     valid_loss, valid_acc))"
   ]
  },
  {
   "cell_type": "markdown",
   "metadata": {},
   "source": [
    "### Check GPU ID get"
   ]
  },
  {
   "cell_type": "code",
   "execution_count": 3,
   "metadata": {},
   "outputs": [
    {
     "data": {
      "text/plain": [
       "['/device:GPU:0', '/device:GPU:1']"
      ]
     },
     "execution_count": 3,
     "metadata": {},
     "output_type": "execute_result"
    }
   ],
   "source": [
    "from tensorflow.python.client import device_lib\n",
    "\n",
    "def get_available_gpus():\n",
    "    local_device_protos = device_lib.list_local_devices()\n",
    "    return [x.name for x in local_device_protos if x.device_type == 'GPU']\n",
    "\n",
    "# list them, no matter which GPU you pick up, the order must start from 0 (e.g. CUDA_VISIBLE_DEVICES=7 ==> /device:GPU:0)\n",
    "get_available_gpus()"
   ]
  },
  {
   "cell_type": "code",
   "execution_count": 4,
   "metadata": {},
   "outputs": [
    {
     "name": "stdout",
     "output_type": "stream",
     "text": [
      "Extracting data/mnist/train-images-idx3-ubyte.gz\n",
      "Extracting data/mnist/train-labels-idx1-ubyte.gz\n",
      "Extracting data/mnist/t10k-images-idx3-ubyte.gz\n",
      "Extracting data/mnist/t10k-labels-idx1-ubyte.gz\n"
     ]
    }
   ],
   "source": [
    "# Get the data\n",
    "mnist = input_data.read_data_sets(\"data/mnist\", one_hot=True)\n",
    "train_x_all = mnist.train.images\n",
    "train_y_all = mnist.train.labels\n",
    "test_x = mnist.test.images\n",
    "test_y = mnist.test.labels"
   ]
  },
  {
   "cell_type": "code",
   "execution_count": 5,
   "metadata": {},
   "outputs": [
    {
     "name": "stdout",
     "output_type": "stream",
     "text": [
      "[[<tensorflow.python.framework.ops.Graph object at 0x7fa304ec59e8>, <keras.engine.training.Model object at 0x7fa304ec5b00>], [<tensorflow.python.framework.ops.Graph object at 0x7fa304ec5a20>, <keras.engine.training.Model object at 0x7fa2fc662908>]]\n"
     ]
    }
   ],
   "source": [
    "# Define the graphs per device\n",
    "learning_rates = [0.01, 0.03]\n",
    "jobs = []\n",
    "devices = ['/device:GPU:0', '/device:GPU:1'] # depends on which GPUs you want to put them in\n",
    "\n",
    "if FLAGS.frame_work is \"TF\":\n",
    "    for device, learning_rate in zip(devices, learning_rates):\n",
    "        with tf.Graph().as_default() as graph:\n",
    "            with tf.device(device):\n",
    "                x = tf.placeholder(tf.float32, [None, 784], name='x')\n",
    "                y = tf.placeholder(tf.float32, [None, 10], name='y')\n",
    "                W = tf.Variable(tf.zeros([784, 10]))\n",
    "                b = tf.Variable(tf.zeros([10]))\n",
    "                pred = tf.nn.softmax(tf.matmul(x, W) + b)\n",
    "                accuracy = tf.reduce_mean(tf.cast(tf.equal(tf.argmax(pred, 1), tf.argmax(y, 1)), tf.float32))\n",
    "                cost = tf.reduce_mean(-tf.reduce_sum(y*tf.log(pred), reduction_indices=1), name='cost')\n",
    "                optimize = tf.train.GradientDescentOptimizer(learning_rate).minimize(cost, name='optimize')\n",
    "        jobs.append(graph)\n",
    "        \n",
    "elif FLAGS.frame_work is \"Keras\":\n",
    "    for learning_rate, device in zip(learning_rates, devices):\n",
    "        with tf.Graph().as_default() as graph:\n",
    "            with tf.device(device):\n",
    "                x = Input(shape= (784,), name = 'Input_layer')\n",
    "                y = Dense(units=10, activation='softmax', name = 'output_layer')(x)\n",
    "            # to cpu\n",
    "            optim = SGD(lr=learning_rate)\n",
    "            model = Model(inputs=[x], outputs=[y])\n",
    "            model.compile(loss = 'categorical_crossentropy', metrics= ['acc'], optimizer=optim)\n",
    "        jobs.append([graph, model])\n",
    "        \n",
    "print(jobs)"
   ]
  },
  {
   "cell_type": "code",
   "execution_count": 7,
   "metadata": {},
   "outputs": [
    {
     "name": "stdout",
     "output_type": "stream",
     "text": [
      "Start training on /device:GPU:0Start training on /device:GPU:1\n",
      "\n",
      "GPU_ID: /device:GPU:0, epoch:    0, loss: 1.68094, acc: 0.566, val_loss: 1.17871, val_acc: 0.792\n",
      "GPU_ID: /device:GPU:1, epoch:    0, loss: 1.13659, acc: 0.734, val_loss: 0.70459, val_acc: 0.844\n",
      "GPU_ID: /device:GPU:0, epoch:    5, loss: 0.58351, acc: 0.861, val_loss: 0.53803, val_acc: 0.874\n",
      "GPU_ID: /device:GPU:1, epoch:    5, loss: 0.42936, acc: 0.886, val_loss: 0.39668, val_acc: 0.895\n",
      "GPU_ID: /device:GPU:0, epoch:   10, loss: 0.47851, acc: 0.878, val_loss: 0.44641, val_acc: 0.887\n",
      "GPU_ID: /device:GPU:1, epoch:   10, loss: 0.37559, acc: 0.897, val_loss: 0.35147, val_acc: 0.906\n",
      "GPU_ID: /device:GPU:0, epoch:   15, loss: 0.43363, acc: 0.886, val_loss: 0.40605, val_acc: 0.893\n",
      "GPU_ID: /device:GPU:1, epoch:   15, loss: 0.35115, acc: 0.903, val_loss: 0.33077, val_acc: 0.909\n",
      "GPU_ID: /device:GPU:0, epoch:   20, loss: 0.40728, acc: 0.890, val_loss: 0.38220, val_acc: 0.899\n",
      "GPU_ID: /device:GPU:1, epoch:   20, loss: 0.33623, acc: 0.906, val_loss: 0.31860, val_acc: 0.913\n",
      "GPU_ID: /device:GPU:0, epoch:   25, loss: 0.38945, acc: 0.894, val_loss: 0.36608, val_acc: 0.903\n",
      "GPU_ID: /device:GPU:1, epoch:   25, loss: 0.32588, acc: 0.909, val_loss: 0.31005, val_acc: 0.915\n",
      "GPU_ID: /device:GPU:0, epoch:   30, loss: 0.37632, acc: 0.898, val_loss: 0.35423, val_acc: 0.905\n",
      "GPU_ID: /device:GPU:1, epoch:   30, loss: 0.31809, acc: 0.911, val_loss: 0.30420, val_acc: 0.915\n",
      "GPU_ID: /device:GPU:0, epoch:   35, loss: 0.36611, acc: 0.900, val_loss: 0.34512, val_acc: 0.907\n",
      "GPU_ID: /device:GPU:1, epoch:   35, loss: 0.31198, acc: 0.913, val_loss: 0.29889, val_acc: 0.917\n",
      "GPU_ID: /device:GPU:0, epoch:   40, loss: 0.35787, acc: 0.902, val_loss: 0.33795, val_acc: 0.908\n",
      "GPU_ID: /device:GPU:1, epoch:   40, loss: 0.30708, acc: 0.914, val_loss: 0.29522, val_acc: 0.917\n",
      "GPU_ID: /device:GPU:0, epoch:   45, loss: 0.35103, acc: 0.903, val_loss: 0.33203, val_acc: 0.909\n",
      "GPU_ID: /device:GPU:1, epoch:   45, loss: 0.30287, acc: 0.915, val_loss: 0.29256, val_acc: 0.918\n"
     ]
    }
   ],
   "source": [
    "# Train a graph on a device\n",
    "if FLAGS.frame_work is \"TF\":\n",
    "    def train(device, graph):\n",
    "        print(\"Start training on %s\" % device)\n",
    "        with tf.Session(graph=graph) as session:\n",
    "            x = graph.get_tensor_by_name('x:0')\n",
    "            y = graph.get_tensor_by_name('y:0')\n",
    "            cost = graph.get_tensor_by_name('cost:0')\n",
    "            optimize = graph.get_operation_by_name('optimize')\n",
    "\n",
    "            session.run(tf.global_variables_initializer())\n",
    "            batch_size = 500\n",
    "            for epoch in range(100):\n",
    "                total_batch = int(train_x_all.shape[0] / batch_size)\n",
    "                for i in range(total_batch):\n",
    "                    batch_x = train_x_all[i * batch_size:(i + 1) * batch_size]\n",
    "                    batch_y = train_y_all[i * batch_size:(i + 1) * batch_size]\n",
    "                    _, c = session.run([optimize, cost], feed_dict={x: batch_x, y: batch_y})\n",
    "                    if i % 20 == 0:\n",
    "                        print(\"Device %s: epoch #%d step=%d cost=%f\" % (device, epoch, i, c))\n",
    "                        \n",
    "elif FLAGS.frame_work is \"Keras\":\n",
    "    def train(device, graph, model):\n",
    "        print(\"Start training on %s\" % device)\n",
    "        logger = Logger(n = 5, gpu_id = device)\n",
    "        with tf.Session(graph=graph) as session:\n",
    "            K.set_session(session=session)\n",
    "            model.fit(x = train_x_all, \n",
    "                      y = train_y_all, \n",
    "                      batch_size=256, \n",
    "                      epochs=50, \n",
    "                      verbose=0, \n",
    "                      validation_data=(test_x, test_y), callbacks=[logger])\n",
    "\n",
    "# Start threads in parallel\n",
    "train_threads = []\n",
    "for i, item in enumerate(jobs):\n",
    "    if FLAGS.frame_work is \"TF\":\n",
    "        this_graph = item\n",
    "        train_threads.append(threading.Thread(target=train, args=(devices[i], this_graph)))\n",
    "    elif FLAGS.frame_work is \"Keras\":\n",
    "        this_graph = item[0]\n",
    "        this_model = item[1]\n",
    "        train_threads.append(threading.Thread(target=train, args=(devices[i], this_graph, this_model)))\n",
    "for t in train_threads:\n",
    "    t.start()\n",
    "for t in train_threads:\n",
    "    t.join()"
   ]
  }
 ],
 "metadata": {
  "kernelspec": {
   "display_name": "Python 3",
   "language": "python",
   "name": "python3"
  },
  "language_info": {
   "codemirror_mode": {
    "name": "ipython",
    "version": 3
   },
   "file_extension": ".py",
   "mimetype": "text/x-python",
   "name": "python",
   "nbconvert_exporter": "python",
   "pygments_lexer": "ipython3",
   "version": "3.5.2"
  }
 },
 "nbformat": 4,
 "nbformat_minor": 2
}
